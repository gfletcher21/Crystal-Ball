{
 "cells": [
  {
   "cell_type": "code",
   "execution_count": 77,
   "metadata": {},
   "outputs": [],
   "source": [
    "import pandas as pd\n",
    "import numpy as np"
   ]
  },
  {
   "cell_type": "code",
   "execution_count": 78,
   "metadata": {},
   "outputs": [],
   "source": [
    "demand = pd.read_csv('JanWeeklyDemand.csv')\n",
    "demand['ItemCode'] = demand['ItemCode'].str.lstrip('0')\n",
    "demand['Inventory Date'] = pd.to_datetime(demand['Inventory Date']).astype('datetime64[D]')\n",
    "\n",
    "weeks = demand['Inventory Date'].unique()\n",
    "weeks = weeks.astype('datetime64[D]')\n",
    "plist = demand['ItemCode'].unique()\n",
    "parts=[]\n",
    "for p in plist:\n",
    "    if p[0:2] == 'SR':\n",
    "        p2 = p[2:]\n",
    "    else:\n",
    "        p2 = p\n",
    "    parts.append(p2.lstrip('0'))\n",
    "# totals = pd.read_csv('2018InventoryTotals.csv')\n",
    "# totals['ItemCode'] = totals['ItemCode'].str.lstrip('0')\n",
    "# totals = totals.set_index('ItemCode')\n",
    "\n",
    "#totaldata = pd.read_csv('2018InventoryTotals.csv')\n",
    "totaldata = pd.read_csv('2018 - January 7 Inventory Totals.csv')\n",
    "nosr = []\n",
    "totaldata['ItemCode'] = totaldata['ItemCode'].str.lstrip('0')\n",
    "for c in totaldata['ItemCode']:\n",
    "    c = str(c)\n",
    "    if c[0:2] == 'SR':\n",
    "        c2 = c[2:]\n",
    "    else:\n",
    "        c2 = c\n",
    "    nosr.append(c2)\n",
    "totaldata['ItemCode'] = nosr    \n",
    "totaldata = totaldata.groupby(by = ['ItemCode']).sum()"
   ]
  },
  {
   "cell_type": "code",
   "execution_count": 79,
   "metadata": {},
   "outputs": [],
   "source": [
    "nosr2 = []\n",
    "for d in demand['ItemCode']:\n",
    "    if d[0:2] == 'SR':\n",
    "        d2 = d[2:]\n",
    "    else:\n",
    "        d2 = d\n",
    "    nosr2.append(d2)\n",
    "demand['ItemCode'] = nosr2    \n",
    "\n",
    "demand = demand.groupby(['Inventory Date', 'ItemCode']).sum()"
   ]
  },
  {
   "cell_type": "code",
   "execution_count": 80,
   "metadata": {},
   "outputs": [
    {
     "data": {
      "text/plain": [
       "59535"
      ]
     },
     "execution_count": 80,
     "metadata": {},
     "output_type": "execute_result"
    }
   ],
   "source": [
    "# Example Total selection: \n",
    "#totaldata['TotalUnits']['271']\n",
    "totaldata['InventoryQuantity']['11']"
   ]
  },
  {
   "cell_type": "code",
   "execution_count": 81,
   "metadata": {},
   "outputs": [
    {
     "data": {
      "text/plain": [
       "58"
      ]
     },
     "execution_count": 81,
     "metadata": {},
     "output_type": "execute_result"
    }
   ],
   "source": [
    "# Example Demand Selection: \n",
    "demand['Weekly Demand'][weeks[1],'271']"
   ]
  },
  {
   "cell_type": "code",
   "execution_count": 82,
   "metadata": {},
   "outputs": [],
   "source": [
    "l = []\n",
    "for part in parts:\n",
    "    for week in weeks:\n",
    "        try:\n",
    "            if totaldata['InventoryQuantity'][part] < demand['Weekly Demand'][week, part]:\n",
    "                l.append([part,totaldata['InventoryQuantity'][part],demand['Weekly Demand'][week, part],str(week)])\n",
    "        except KeyError:\n",
    "            try:\n",
    "                if part not in totaldata[['InventoryQuantity']]:\n",
    "                #totals['TotalUnits'][part] = 0\n",
    "                    i = 0\n",
    "                    l.append([part,i,demand['Weekly Demand'][week, part],str(week)])\n",
    "            except KeyError:\n",
    "                pass"
   ]
  },
  {
   "cell_type": "code",
   "execution_count": 83,
   "metadata": {},
   "outputs": [],
   "source": [
    "# l = []\n",
    "# for part in parts:\n",
    "#     for week in weeks:\n",
    "#         try:\n",
    "#             if totaldata['TotalUnits'][part] < demand['Weekly Demand'][week, part]:\n",
    "#                 l.append([part,totaldata['TotalUnits'][part],demand['Weekly Demand'][week, part],str(week)])\n",
    "#         except KeyError:\n",
    "#             try:\n",
    "#                 if part not in totaldata['TotalUnits']:\n",
    "#                 #totals['TotalUnits'][part] = 0\n",
    "#                     i = 0\n",
    "#                     l.append([part,i,demand['Weekly Demand'][week, part],str(week)])\n",
    "#             except KeyError:\n",
    "#                 pass"
   ]
  },
  {
   "cell_type": "code",
   "execution_count": 84,
   "metadata": {},
   "outputs": [],
   "source": [
    "d = {}\n",
    "for part in parts:\n",
    "    try:\n",
    "        req = demand['Weekly Demand'][weeks[0],part] \n",
    "        + max(demand['Weekly Demand'][weeks[1],part] - demand['Weekly Demand'][weeks[0], part],0) \n",
    "        req = req + max(demand['Weekly Demand'][weeks[2],part] - req,0) \n",
    "        req = req + max(demand['Weekly Demand'][weeks[3],part] - req,0)\n",
    "        d[part] = req\n",
    "    except KeyError:\n",
    "        d[part] = 0\n",
    "        \n",
    "        \n",
    "        \n",
    "        \n",
    "        \n",
    "        \n",
    "        \n",
    "        \n",
    "#         try:\n",
    "#             req = demand['Weekly Demand'][part[2:], dates[0]] \n",
    "#             + max(demand['Weekly Demand'][part[2:], dates[1]] - demand['Weekly Demand'][part[2:], dates[0]],0) \n",
    "#             req = req + max(demand['Weekly Demand'][part[2:], dates[2]] - req,0) \n",
    "#             req = req + max(demand['Weekly Demand'][part[2:], dates[3]] - req,0)\n",
    "#             d[part] = req\n",
    "#         except KeyError:\n",
    "#             pass"
   ]
  },
  {
   "cell_type": "code",
   "execution_count": 85,
   "metadata": {},
   "outputs": [],
   "source": [
    "\n",
    "for part in parts:\n",
    "    try:\n",
    "        if totaldata['InventoryQuantity'][part] < d[part]:\n",
    "            l.append([part,totaldata['InventoryQuantity'][part],d[part],np.NaN])\n",
    "    except KeyError:\n",
    "        try:\n",
    "            if part not in totaldata['InventoryQuantity']:\n",
    "            #totals['TotalUnits'][part] = 0\n",
    "                i = 0\n",
    "                l.append([part,i,d[part],np.NaN])\n",
    "        except KeyError:\n",
    "            pass\n",
    "        \n",
    "        \n",
    "        \n",
    "        \n",
    "        \n",
    "        \n",
    "        \n",
    "        \n",
    "#         try:\n",
    "#             if totals['TotalUnits'][part] < d[part[2:]]:\n",
    "#                 l.append([part,totals['TotalUnits'][part],d[part]])\n",
    "#         except KeyError:\n",
    "    \n",
    "        "
   ]
  },
  {
   "cell_type": "code",
   "execution_count": null,
   "metadata": {},
   "outputs": [],
   "source": []
  },
  {
   "cell_type": "code",
   "execution_count": 86,
   "metadata": {},
   "outputs": [
    {
     "data": {
      "text/plain": [
       "[['10795', 42, 44, '2018-01-21'],\n",
       " ['1121', 8, 13, '2018-01-07'],\n",
       " ['1133', 0, 48, '2018-01-28'],\n",
       " ['1579', 0, 668, '2018-01-07'],\n",
       " ['1579', 0, 668, '2018-01-14'],\n",
       " ['1579', 0, 668, '2018-01-21'],\n",
       " ['1579', 0, 668, '2018-01-28'],\n",
       " ['1991487', 0, 1, '2018-01-21'],\n",
       " ['1991487', 0, 1, '2018-01-28'],\n",
       " ['2053', 0, 535, '2018-01-07'],\n",
       " ['2053', 0, 523, '2018-01-14'],\n",
       " ['2053', 0, 512, '2018-01-21'],\n",
       " ['2053', 0, 511, '2018-01-28'],\n",
       " ['2190', 0, 1, '2018-01-07'],\n",
       " ['2190', 0, 1, '2018-01-14'],\n",
       " ['2190', 0, 1, '2018-01-21'],\n",
       " ['2190', 0, 1, '2018-01-28'],\n",
       " ['2199', 0, 21, '2018-01-07'],\n",
       " ['2199', 0, 21, '2018-01-14'],\n",
       " ['2199', 0, 21, '2018-01-21'],\n",
       " ['2199', 0, 21, '2018-01-28'],\n",
       " ['3561', 232, 298, '2018-01-21'],\n",
       " ['3561', 232, 260, '2018-01-28'],\n",
       " ['404', 26, 27, '2018-01-28'],\n",
       " ['4765', 0, 1, '2018-01-07'],\n",
       " ['526', 71, 82, '2018-01-28'],\n",
       " ['5321', 0, 8, '2018-01-07'],\n",
       " ['7018', 0, 13, '2018-01-07'],\n",
       " ['7018', 0, 13, '2018-01-14'],\n",
       " ['7018', 0, 13, '2018-01-21'],\n",
       " ['7018', 0, 13, '2018-01-28'],\n",
       " ['7230264', 0, 1000, '2018-01-14'],\n",
       " ['7230264', 0, 1000, '2018-01-21'],\n",
       " ['7230264', 0, 1000, '2018-01-28'],\n",
       " ['7230455', 0, 200, '2018-01-14'],\n",
       " ['7230455', 0, 200, '2018-01-21'],\n",
       " ['7230455', 0, 200, '2018-01-28'],\n",
       " ['7471', 6, 8, '2018-01-14'],\n",
       " ['7471', 6, 8, '2018-01-21'],\n",
       " ['7471', 6, 12, '2018-01-28'],\n",
       " ['AL1S', 58, 150, '2018-01-28'],\n",
       " ['ALT3', 102, 146, '2018-01-28'],\n",
       " ['LB10904', 0, 7, '2018-01-28'],\n",
       " ['LB10905', 0, 24, '2018-01-07'],\n",
       " ['LB10908', 142, 148, '2018-01-07'],\n",
       " ['MESH2X4', 0, 8, '2018-01-07'],\n",
       " ['SLH22', 552, 566, '2018-01-07'],\n",
       " ['100852', 0, 1, '2018-01-21'],\n",
       " ['100852', 0, 1, '2018-01-28'],\n",
       " ['225006', 0, 4, '2018-01-21'],\n",
       " ['225006', 0, 4, '2018-01-28'],\n",
       " ['225016', 0, 1, '2018-01-14'],\n",
       " ['225016', 0, 1, '2018-01-21'],\n",
       " ['225016', 0, 1, '2018-01-28'],\n",
       " ['404', 26, 27, '2018-01-28'],\n",
       " ['ALJ21', 0, 53, '2018-01-21'],\n",
       " ['ALJ21', 0, 53, '2018-01-28'],\n",
       " ['B10', 0, 18, '2018-01-07'],\n",
       " ['B10', 0, 18, '2018-01-14'],\n",
       " ['B10', 0, 18, '2018-01-21'],\n",
       " ['B10', 0, 18, '2018-01-28'],\n",
       " ['SFSJ36', 0, 52, '2018-01-21'],\n",
       " ['SFSJ36', 0, 52, '2018-01-28'],\n",
       " ['SLH22', 552, 566, '2018-01-07'],\n",
       " ['SRB', 0, 6, '2018-01-21'],\n",
       " ['SRB', 0, 6, '2018-01-28'],\n",
       " ['SRO', 0, 17, '2018-01-21'],\n",
       " ['SRO', 0, 17, '2018-01-28'],\n",
       " ['VFTP463087', 0, 450, '2018-01-21'],\n",
       " ['VFTP463087', 0, 450, '2018-01-28'],\n",
       " ['VFTP552147', 0, 820, '2018-01-07'],\n",
       " ['VFTP552147', 0, 820, '2018-01-14'],\n",
       " ['VFTP552147', 0, 820, '2018-01-21'],\n",
       " ['VFTP552147', 0, 820, '2018-01-28'],\n",
       " ['10795', 42, 44, nan],\n",
       " ['1121', 8, 13, nan],\n",
       " ['1133', 0, 0, nan],\n",
       " ['1579', 0, 668, nan],\n",
       " ['1991487', 0, 0, nan],\n",
       " ['2053', 0, 535, nan],\n",
       " ['2190', 0, 1, nan],\n",
       " ['2199', 0, 21, nan],\n",
       " ['3561', 232, 298, nan],\n",
       " ['404', 26, 27, nan],\n",
       " ['4765', 0, 0, nan],\n",
       " ['526', 71, 82, nan],\n",
       " ['5321', 0, 0, nan],\n",
       " ['7018', 0, 13, nan],\n",
       " ['7230264', 0, 0, nan],\n",
       " ['7230455', 0, 0, nan],\n",
       " ['7471', 6, 12, nan],\n",
       " ['AL1S', 58, 150, nan],\n",
       " ['ALT3', 102, 146, nan],\n",
       " ['LB10904', 0, 0, nan],\n",
       " ['LB10905', 0, 0, nan],\n",
       " ['LB10908', 142, 148, nan],\n",
       " ['MESH2X4', 0, 0, nan],\n",
       " ['SLH22', 552, 566, nan],\n",
       " ['100852', 0, 0, nan],\n",
       " ['225006', 0, 0, nan],\n",
       " ['225016', 0, 0, nan],\n",
       " ['404', 26, 27, nan],\n",
       " ['ALJ21', 0, 0, nan],\n",
       " ['B10', 0, 18, nan],\n",
       " ['SFSJ36', 0, 0, nan],\n",
       " ['SLH22', 552, 566, nan],\n",
       " ['SRB', 0, 0, nan],\n",
       " ['SRO', 0, 0, nan],\n",
       " ['VFTP463087', 0, 0, nan],\n",
       " ['VFTP552147', 0, 820, nan]]"
      ]
     },
     "execution_count": 86,
     "metadata": {},
     "output_type": "execute_result"
    }
   ],
   "source": [
    "l"
   ]
  },
  {
   "cell_type": "code",
   "execution_count": 87,
   "metadata": {},
   "outputs": [],
   "source": [
    "# bad = []\n",
    "# for p in l:\n",
    "#     if p[0] not in bad:\n",
    "#         bad.append(p[0])"
   ]
  },
  {
   "cell_type": "code",
   "execution_count": 88,
   "metadata": {},
   "outputs": [],
   "source": [
    "#bad"
   ]
  },
  {
   "cell_type": "code",
   "execution_count": 89,
   "metadata": {},
   "outputs": [],
   "source": [
    "# n = []\n",
    "# for x in l:\n",
    "#     if x[0][:2] == 'SR':\n",
    "#         n.append([x[0][2:],x[1],x[2]])\n",
    "#     else:\n",
    "#         n.append(x)\n",
    "# n"
   ]
  },
  {
   "cell_type": "code",
   "execution_count": 90,
   "metadata": {},
   "outputs": [],
   "source": [
    "df = pd.DataFrame(l,columns = ['Item Code','Units in System','Demand','Date'])"
   ]
  },
  {
   "cell_type": "code",
   "execution_count": 91,
   "metadata": {},
   "outputs": [
    {
     "data": {
      "text/plain": [
       "34"
      ]
     },
     "execution_count": 91,
     "metadata": {},
     "output_type": "execute_result"
    }
   ],
   "source": [
    "np.count_nonzero(df['Item Code'].unique())"
   ]
  },
  {
   "cell_type": "code",
   "execution_count": 92,
   "metadata": {},
   "outputs": [],
   "source": [
    "df.to_csv('DiscrepanciesNoSR2.csv')"
   ]
  }
 ],
 "metadata": {
  "kernelspec": {
   "display_name": "Python 3",
   "language": "python",
   "name": "python3"
  },
  "language_info": {
   "codemirror_mode": {
    "name": "ipython",
    "version": 3
   },
   "file_extension": ".py",
   "mimetype": "text/x-python",
   "name": "python",
   "nbconvert_exporter": "python",
   "pygments_lexer": "ipython3",
   "version": "3.7.1"
  }
 },
 "nbformat": 4,
 "nbformat_minor": 2
}
