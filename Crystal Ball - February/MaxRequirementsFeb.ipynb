{
 "cells": [
  {
   "cell_type": "code",
   "execution_count": 1,
   "metadata": {},
   "outputs": [],
   "source": [
    "import pandas as pd\n",
    "import numpy as np"
   ]
  },
  {
   "cell_type": "code",
   "execution_count": 2,
   "metadata": {},
   "outputs": [],
   "source": [
    "demand = pd.read_csv('Feb 2018 Weekly Demand.csv')\n",
    "demand['ItemCode'] = demand['ItemCode'].str.lstrip('0')\n",
    "demand['Inventory Date'] = pd.to_datetime(demand['Inventory Date']).astype('datetime64[D]')\n",
    "\n",
    "weeks = demand['Inventory Date'].unique()\n",
    "weeks = weeks.astype('datetime64[D]')\n",
    "plist = demand['ItemCode'].unique()\n",
    "parts=[]\n",
    "for p in plist:\n",
    "    if p[0:2] == 'SR':\n",
    "        p2 = p[2:]\n",
    "    else:\n",
    "        p2 = p\n",
    "    parts.append(p2.lstrip('0'))\n",
    "# totals = pd.read_csv('2018InventoryTotals.csv')\n",
    "# totals['ItemCode'] = totals['ItemCode'].str.lstrip('0')\n",
    "# totals = totals.set_index('ItemCode')\n",
    "\n",
    "#totaldata = pd.read_csv('2018InventoryTotals.csv')\n",
    "totaldata = pd.read_csv('Feb4Inv.csv')\n",
    "nosr = []\n",
    "totaldata['ItemCode'] = totaldata['ItemCode'].str.lstrip('0')\n",
    "for c in totaldata['ItemCode']:\n",
    "    c = str(c)\n",
    "    if c[0:2] == 'SR':\n",
    "        c2 = c[2:]\n",
    "    else:\n",
    "        c2 = c\n",
    "    nosr.append(c2)\n",
    "totaldata['ItemCode'] = nosr    \n",
    "totaldata = totaldata.groupby(by = ['ItemCode']).sum()"
   ]
  },
  {
   "cell_type": "code",
   "execution_count": 3,
   "metadata": {},
   "outputs": [],
   "source": [
    "nosr2 = []\n",
    "for d in demand['ItemCode']:\n",
    "    if d[0:2] == 'SR':\n",
    "        d2 = d[2:]\n",
    "    else:\n",
    "        d2 = d\n",
    "    nosr2.append(d2)\n",
    "demand['ItemCode'] = nosr2    \n",
    "\n",
    "demand = demand.groupby(['Inventory Date', 'ItemCode']).sum()"
   ]
  },
  {
   "cell_type": "code",
   "execution_count": 4,
   "metadata": {},
   "outputs": [
    {
     "data": {
      "text/plain": [
       "59666"
      ]
     },
     "execution_count": 4,
     "metadata": {},
     "output_type": "execute_result"
    }
   ],
   "source": [
    "# Example Total selection: \n",
    "#totaldata['TotalUnits']['271']\n",
    "totaldata['InventoryQuantity']['11']"
   ]
  },
  {
   "cell_type": "code",
   "execution_count": 5,
   "metadata": {},
   "outputs": [
    {
     "data": {
      "text/plain": [
       "50"
      ]
     },
     "execution_count": 5,
     "metadata": {},
     "output_type": "execute_result"
    }
   ],
   "source": [
    "# Example Demand Selection: \n",
    "demand['Weekly Demand'][weeks[1],'271']"
   ]
  },
  {
   "cell_type": "code",
   "execution_count": 6,
   "metadata": {},
   "outputs": [],
   "source": [
    "l = []\n",
    "for part in parts:\n",
    "    for week in weeks:\n",
    "        try:\n",
    "            if totaldata['InventoryQuantity'][part] < demand['Weekly Demand'][week, part]:\n",
    "                l.append([part,totaldata['InventoryQuantity'][part],demand['Weekly Demand'][week, part],str(week)])\n",
    "        except KeyError:\n",
    "            try:\n",
    "                if part not in totaldata[['InventoryQuantity']]:\n",
    "                #totals['TotalUnits'][part] = 0\n",
    "                    i = 0\n",
    "                    l.append([part,i,demand['Weekly Demand'][week, part],str(week)])\n",
    "            except KeyError:\n",
    "                pass"
   ]
  },
  {
   "cell_type": "code",
   "execution_count": 7,
   "metadata": {},
   "outputs": [],
   "source": [
    "# l = []\n",
    "# for part in parts:\n",
    "#     for week in weeks:\n",
    "#         try:\n",
    "#             if totaldata['TotalUnits'][part] < demand['Weekly Demand'][week, part]:\n",
    "#                 l.append([part,totaldata['TotalUnits'][part],demand['Weekly Demand'][week, part],str(week)])\n",
    "#         except KeyError:\n",
    "#             try:\n",
    "#                 if part not in totaldata['TotalUnits']:\n",
    "#                 #totals['TotalUnits'][part] = 0\n",
    "#                     i = 0\n",
    "#                     l.append([part,i,demand['Weekly Demand'][week, part],str(week)])\n",
    "#             except KeyError:\n",
    "#                 pass"
   ]
  },
  {
   "cell_type": "code",
   "execution_count": 8,
   "metadata": {},
   "outputs": [],
   "source": [
    "d = {}\n",
    "for part in parts:\n",
    "    try:\n",
    "        req = demand['Weekly Demand'][weeks[0],part] \n",
    "        + max(demand['Weekly Demand'][weeks[1],part] - demand['Weekly Demand'][weeks[0], part],0) \n",
    "        req = req + max(demand['Weekly Demand'][weeks[2],part] - req,0) \n",
    "        req = req + max(demand['Weekly Demand'][weeks[3],part] - req,0)\n",
    "        d[part] = req\n",
    "    except KeyError:\n",
    "        d[part] = 0\n",
    "        \n",
    "        \n",
    "        \n",
    "        \n",
    "        \n",
    "        \n",
    "        \n",
    "        \n",
    "#         try:\n",
    "#             req = demand['Weekly Demand'][part[2:], dates[0]] \n",
    "#             + max(demand['Weekly Demand'][part[2:], dates[1]] - demand['Weekly Demand'][part[2:], dates[0]],0) \n",
    "#             req = req + max(demand['Weekly Demand'][part[2:], dates[2]] - req,0) \n",
    "#             req = req + max(demand['Weekly Demand'][part[2:], dates[3]] - req,0)\n",
    "#             d[part] = req\n",
    "#         except KeyError:\n",
    "#             pass"
   ]
  },
  {
   "cell_type": "code",
   "execution_count": 9,
   "metadata": {},
   "outputs": [],
   "source": [
    "\n",
    "for part in parts:\n",
    "    try:\n",
    "        if totaldata['InventoryQuantity'][part] < d[part]:\n",
    "            l.append([part,totaldata['InventoryQuantity'][part],d[part],np.NaN])\n",
    "    except KeyError:\n",
    "        try:\n",
    "            if part not in totaldata['InventoryQuantity']:\n",
    "            #totals['TotalUnits'][part] = 0\n",
    "                i = 0\n",
    "                l.append([part,i,d[part],np.NaN])\n",
    "        except KeyError:\n",
    "            pass\n",
    "        \n",
    "        \n",
    "        \n",
    "        \n",
    "        \n",
    "        \n",
    "        \n",
    "        \n",
    "#         try:\n",
    "#             if totals['TotalUnits'][part] < d[part[2:]]:\n",
    "#                 l.append([part,totals['TotalUnits'][part],d[part]])\n",
    "#         except KeyError:\n",
    "    \n",
    "        "
   ]
  },
  {
   "cell_type": "code",
   "execution_count": null,
   "metadata": {},
   "outputs": [],
   "source": []
  },
  {
   "cell_type": "code",
   "execution_count": 10,
   "metadata": {},
   "outputs": [
    {
     "data": {
      "text/plain": [
       "[['1579', 0, 675, '2018-02-04'],\n",
       " ['1579', 0, 681, '2018-02-11'],\n",
       " ['1579', 0, 681, '2018-02-18'],\n",
       " ['1579', 0, 681, '2018-02-25'],\n",
       " ['2053', 0, 508, '2018-02-04'],\n",
       " ['2053', 0, 525, '2018-02-11'],\n",
       " ['2053', 0, 530, '2018-02-18'],\n",
       " ['2053', 0, 534, '2018-02-25'],\n",
       " ['3721', 31625, 31676, '2018-02-25'],\n",
       " ['5764', 1746, 1836, '2018-02-25'],\n",
       " ['737', 169, 234, '2018-02-25'],\n",
       " ['225010', 2, 3, '2018-02-11'],\n",
       " ['225010', 2, 3, '2018-02-18'],\n",
       " ['225010', 2, 3, '2018-02-25'],\n",
       " ['225013', 4, 6, '2018-02-11'],\n",
       " ['225013', 4, 6, '2018-02-18'],\n",
       " ['225013', 4, 6, '2018-02-25'],\n",
       " ['VFTP463087', 0, 450, '2018-02-04'],\n",
       " ['VFTP463087', 0, 450, '2018-02-11'],\n",
       " ['VFTP463087', 0, 450, '2018-02-18'],\n",
       " ['VFTP463087', 0, 81, '2018-02-25'],\n",
       " ['7018', 0, 13, '2018-02-04'],\n",
       " ['7018', 0, 13, '2018-02-11'],\n",
       " ['7018', 0, 12, '2018-02-18'],\n",
       " ['7018', 0, 12, '2018-02-25'],\n",
       " ['CRCWSJ', 12, 28, '2018-02-25'],\n",
       " ['1718024', 1677, 1803, '2018-02-11'],\n",
       " ['1718024', 1677, 1906, '2018-02-18'],\n",
       " ['1718024', 1677, 1906, '2018-02-25'],\n",
       " ['2197', 65, 1405, '2018-02-04'],\n",
       " ['2197', 65, 1515, '2018-02-11'],\n",
       " ['2197', 65, 1606, '2018-02-18'],\n",
       " ['2197', 65, 1622, '2018-02-25'],\n",
       " ['2199', 0, 21, '2018-02-04'],\n",
       " ['2199', 0, 21, '2018-02-11'],\n",
       " ['2199', 0, 21, '2018-02-18'],\n",
       " ['2199', 0, 21, '2018-02-25'],\n",
       " ['AL1S', 154, 158, '2018-02-18'],\n",
       " ['AL1S', 154, 158, '2018-02-25'],\n",
       " ['6681', 714, 801, '2018-02-25'],\n",
       " ['2190', 0, 1, '2018-02-04'],\n",
       " ['2190', 0, 1, '2018-02-11'],\n",
       " ['2190', 0, 1, '2018-02-18'],\n",
       " ['2190', 0, 1, '2018-02-25'],\n",
       " ['PSH9140', 328, 380, '2018-02-18'],\n",
       " ['PSH9140', 328, 380, '2018-02-25'],\n",
       " ['WPP21008', 72, 191, '2018-02-18'],\n",
       " ['WPP21008', 72, 191, '2018-02-25'],\n",
       " ['WPP21012', 2039, 2341, '2018-02-18'],\n",
       " ['WPP21012', 2039, 2599, '2018-02-25'],\n",
       " ['VFTP552147', 0, 665, '2018-02-04'],\n",
       " ['VFTP552147', 0, 604, '2018-02-11'],\n",
       " ['VFTP552147', 0, 467, '2018-02-18'],\n",
       " ['VFTP552147', 0, 399, '2018-02-25'],\n",
       " ['2149', 0, 30, '2018-02-04'],\n",
       " ['2151', 0, 3, '2018-02-04'],\n",
       " ['2152', 0, 27, '2018-02-04'],\n",
       " ['BR20L', 100, 104, '2018-02-04'],\n",
       " ['CGRGTE', 12, 23, '2018-02-18'],\n",
       " ['CGRGTE', 12, 23, '2018-02-25'],\n",
       " ['SU5IR', 21, 29, '2018-02-18'],\n",
       " ['SU5IR', 21, 29, '2018-02-25'],\n",
       " ['6356', 1268, 2317, '2018-02-11'],\n",
       " ['6356', 1268, 1731, '2018-02-18'],\n",
       " ['6356', 1268, 1869, '2018-02-25'],\n",
       " ['5764', 1746, 1836, '2018-02-25'],\n",
       " ['3575', 816, 864, '2018-02-18'],\n",
       " ['3575', 816, 864, '2018-02-25'],\n",
       " ['3721', 31625, 31676, '2018-02-25'],\n",
       " ['B10', 0, 18, '2018-02-04'],\n",
       " ['B10', 0, 32, '2018-02-11'],\n",
       " ['B10', 0, 32, '2018-02-18'],\n",
       " ['B10', 0, 32, '2018-02-25'],\n",
       " ['10795', 40, 42, '2018-02-04'],\n",
       " ['2197', 65, 1405, '2018-02-04'],\n",
       " ['2197', 65, 1515, '2018-02-11'],\n",
       " ['2197', 65, 1606, '2018-02-18'],\n",
       " ['2197', 65, 1622, '2018-02-25'],\n",
       " ['SLB6', 0, 4, '2018-02-11'],\n",
       " ['SLB6', 0, 4, '2018-02-18'],\n",
       " ['SLB6', 0, 4, '2018-02-25'],\n",
       " ['2250142', 0, 1, '2018-02-18'],\n",
       " ['2250142', 0, 1, '2018-02-25'],\n",
       " ['2250143', 0, 1, '2018-02-18'],\n",
       " ['2250143', 0, 1, '2018-02-25'],\n",
       " ['1759', 46, 608, '2018-02-18'],\n",
       " ['1759', 46, 608, '2018-02-25'],\n",
       " ['1003', 0, 2, '2018-02-18'],\n",
       " ['1003', 0, 2, '2018-02-25'],\n",
       " ['1134', 4, 12, '2018-02-18'],\n",
       " ['1134', 4, 12, '2018-02-25'],\n",
       " ['8730', 0, 8, '2018-02-18'],\n",
       " ['8730', 0, 8, '2018-02-25'],\n",
       " ['B4', 0, 6, '2018-02-18'],\n",
       " ['B4', 0, 6, '2018-02-25'],\n",
       " ['CRCWSJ', 12, 28, '2018-02-25'],\n",
       " ['1579', 0, 681, nan],\n",
       " ['2053', 0, 534, nan],\n",
       " ['3721', 31625, 31676, nan],\n",
       " ['5764', 1746, 1836, nan],\n",
       " ['737', 169, 234, nan],\n",
       " ['225010', 2, 3, nan],\n",
       " ['225013', 4, 6, nan],\n",
       " ['VFTP463087', 0, 450, nan],\n",
       " ['7018', 0, 13, nan],\n",
       " ['CRCWSJ', 12, 28, nan],\n",
       " ['1718024', 1677, 1906, nan],\n",
       " ['2197', 65, 1622, nan],\n",
       " ['2199', 0, 21, nan],\n",
       " ['AL1S', 154, 158, nan],\n",
       " ['6681', 714, 801, nan],\n",
       " ['2190', 0, 1, nan],\n",
       " ['PSH9140', 328, 380, nan],\n",
       " ['WPP21008', 72, 191, nan],\n",
       " ['WPP21012', 2039, 2599, nan],\n",
       " ['VFTP552147', 0, 665, nan],\n",
       " ['2149', 0, 0, nan],\n",
       " ['2151', 0, 0, nan],\n",
       " ['2152', 0, 0, nan],\n",
       " ['BR20L', 100, 104, nan],\n",
       " ['CGRGTE', 12, 23, nan],\n",
       " ['SU5IR', 21, 29, nan],\n",
       " ['6356', 1268, 1869, nan],\n",
       " ['5764', 1746, 1836, nan],\n",
       " ['3575', 816, 864, nan],\n",
       " ['3721', 31625, 31676, nan],\n",
       " ['B10', 0, 32, nan],\n",
       " ['10795', 40, 42, nan],\n",
       " ['2197', 65, 1622, nan],\n",
       " ['SLB6', 0, 0, nan],\n",
       " ['2250142', 0, 0, nan],\n",
       " ['2250143', 0, 0, nan],\n",
       " ['1003', 0, 0, nan],\n",
       " ['8730', 0, 0, nan],\n",
       " ['B4', 0, 0, nan],\n",
       " ['CRCWSJ', 12, 28, nan]]"
      ]
     },
     "execution_count": 10,
     "metadata": {},
     "output_type": "execute_result"
    }
   ],
   "source": [
    "l"
   ]
  },
  {
   "cell_type": "code",
   "execution_count": 11,
   "metadata": {},
   "outputs": [],
   "source": [
    "# bad = []\n",
    "# for p in l:\n",
    "#     if p[0] not in bad:\n",
    "#         bad.append(p[0])"
   ]
  },
  {
   "cell_type": "code",
   "execution_count": 12,
   "metadata": {},
   "outputs": [],
   "source": [
    "#bad"
   ]
  },
  {
   "cell_type": "code",
   "execution_count": 13,
   "metadata": {},
   "outputs": [],
   "source": [
    "# n = []\n",
    "# for x in l:\n",
    "#     if x[0][:2] == 'SR':\n",
    "#         n.append([x[0][2:],x[1],x[2]])\n",
    "#     else:\n",
    "#         n.append(x)\n",
    "# n"
   ]
  },
  {
   "cell_type": "code",
   "execution_count": 14,
   "metadata": {},
   "outputs": [],
   "source": [
    "df = pd.DataFrame(l,columns = ['Item Code','Units in System','Demand','Date'])"
   ]
  },
  {
   "cell_type": "code",
   "execution_count": 15,
   "metadata": {},
   "outputs": [
    {
     "data": {
      "text/plain": [
       "38"
      ]
     },
     "execution_count": 15,
     "metadata": {},
     "output_type": "execute_result"
    }
   ],
   "source": [
    "np.count_nonzero(df['Item Code'].unique())"
   ]
  },
  {
   "cell_type": "code",
   "execution_count": 16,
   "metadata": {},
   "outputs": [],
   "source": [
    "df.to_csv('FebDiscrepanciesNoSR.csv')"
   ]
  }
 ],
 "metadata": {
  "kernelspec": {
   "display_name": "Python 3",
   "language": "python",
   "name": "python3"
  },
  "language_info": {
   "codemirror_mode": {
    "name": "ipython",
    "version": 3
   },
   "file_extension": ".py",
   "mimetype": "text/x-python",
   "name": "python",
   "nbconvert_exporter": "python",
   "pygments_lexer": "ipython3",
   "version": "3.7.1"
  }
 },
 "nbformat": 4,
 "nbformat_minor": 2
}
